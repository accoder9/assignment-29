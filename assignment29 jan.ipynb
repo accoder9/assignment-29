{
 "cells": [
  {
   "cell_type": "markdown",
   "id": "13dfc897-7e92-4fde-b522-5e8085e43474",
   "metadata": {},
   "source": [
    "1. Who developed Python Programming Language?"
   ]
  },
  {
   "cell_type": "markdown",
   "id": "5e889ce1-0061-45d4-9fe6-8a3e418df423",
   "metadata": {},
   "source": [
    " Guido van Rossum"
   ]
  },
  {
   "cell_type": "markdown",
   "id": "0137c077-7569-490d-8a68-b860b69502fc",
   "metadata": {},
   "source": [
    "2 which type of Programming does python support?"
   ]
  },
  {
   "cell_type": "markdown",
   "id": "0efb1826-563d-4086-8b0b-d1957432b386",
   "metadata": {},
   "source": [
    "Python is a multi-paradigm programming language. Object-oriented programming and structured programming are fully supported"
   ]
  },
  {
   "cell_type": "markdown",
   "id": "ec321568-d799-4171-84d9-a003a01c7f18",
   "metadata": {},
   "source": [
    "3 Is Python case sensitive when dealing with identifiers?"
   ]
  },
  {
   "cell_type": "markdown",
   "id": "b8363612-9bdf-4a81-a6c4-481d236ac327",
   "metadata": {},
   "source": [
    "Yes"
   ]
  },
  {
   "cell_type": "markdown",
   "id": "f222a69f-3132-4ed6-8c04-6e8041789471",
   "metadata": {},
   "source": [
    "4. What is the correct extension of python file?"
   ]
  },
  {
   "cell_type": "markdown",
   "id": "da678219-6a32-4547-aab2-707f9be9aa1b",
   "metadata": {},
   "source": [
    ".py"
   ]
  },
  {
   "cell_type": "markdown",
   "id": "d327252d-feeb-4c97-be09-63e01f154740",
   "metadata": {},
   "source": [
    "5 Is python code compiled or interpreted?"
   ]
  },
  {
   "cell_type": "markdown",
   "id": "7a0fe1b7-f87d-4a6a-8016-822d560f0c50",
   "metadata": {},
   "source": [
    "interpreted"
   ]
  },
  {
   "cell_type": "markdown",
   "id": "a20ba91d-adc1-4193-8046-2bbba912d766",
   "metadata": {},
   "source": [
    "6 Name a few blocks of code used to define in Python language?"
   ]
  },
  {
   "cell_type": "markdown",
   "id": "137edcf9-1350-4ec7-983c-957b94cb693a",
   "metadata": {},
   "source": [
    " a module, a function body, and a class definition,script"
   ]
  },
  {
   "cell_type": "markdown",
   "id": "382cd477-cc4c-4ac8-b7ac-dffaa5d946ab",
   "metadata": {},
   "source": [
    "7.State a character used to give single line comments in python?"
   ]
  },
  {
   "cell_type": "markdown",
   "id": "960e754c-7cab-4206-88de-1af20c5b5a56",
   "metadata": {},
   "source": [
    "\"#\" character"
   ]
  },
  {
   "cell_type": "markdown",
   "id": "d3a4fbff-e6cf-4611-a9eb-b7564aab7b4e",
   "metadata": {},
   "source": [
    "8. Mention functions which can help us to find the version of python that we are currenlty working on ?"
   ]
  },
  {
   "cell_type": "markdown",
   "id": "79698237-9bb1-4f13-8aa2-9b0da08dccd1",
   "metadata": {},
   "source": [
    "sys.version\n",
    "platform.python_version()"
   ]
  },
  {
   "cell_type": "markdown",
   "id": "7d81e004-4fc5-4210-946c-a70728ea12b4",
   "metadata": {},
   "source": [
    "9. Python supports the creation of anonymous functions at runtime, using a construct called"
   ]
  },
  {
   "cell_type": "markdown",
   "id": "632c7cab-5dc7-4c9d-931e-77222ce1b644",
   "metadata": {},
   "source": [
    "lambda"
   ]
  },
  {
   "cell_type": "markdown",
   "id": "b6299c6e-09e7-441f-977d-d6c2b5146448",
   "metadata": {},
   "source": [
    "10. What does pip stand for python?"
   ]
  },
  {
   "cell_type": "markdown",
   "id": "589f42b0-08a3-4598-b6cd-546230142608",
   "metadata": {},
   "source": [
    "preferred installer program"
   ]
  },
  {
   "cell_type": "markdown",
   "id": "c50f699d-5974-43f3-a199-a7d45c83ad21",
   "metadata": {},
   "source": [
    "11. Mention a few built-in functions in python?"
   ]
  },
  {
   "cell_type": "markdown",
   "id": "89d79f4e-13ac-4169-9fdb-935d41ba9ca3",
   "metadata": {},
   "source": [
    "print( ) function.\n",
    "type( ) function.\n",
    "input( ) function.\n",
    "abs( ) function."
   ]
  },
  {
   "cell_type": "markdown",
   "id": "48e81c9d-5ded-4fe0-bb44-e1c82e384ccb",
   "metadata": {},
   "source": [
    "12. What is the maximum possible length of an indentifier in python?"
   ]
  },
  {
   "cell_type": "markdown",
   "id": "3a0097d2-00b7-4b8a-8068-85b56005e4b5",
   "metadata": {},
   "source": [
    "79 character"
   ]
  },
  {
   "cell_type": "markdown",
   "id": "1923f479-7033-4f69-a6c5-06390763e287",
   "metadata": {},
   "source": [
    "13. What are the benefits of using python?"
   ]
  },
  {
   "cell_type": "markdown",
   "id": "00e36562-e0b5-4629-9988-f8ee7255bca8",
   "metadata": {},
   "source": [
    "Easy-to-learn and Easy-to-use\n",
    "Improves Productivity\n",
    "Interpreted Language\n",
    "Easily Portable\n",
    "Massive Libraries\n",
    "\n",
    "\n"
   ]
  },
  {
   "cell_type": "markdown",
   "id": "97375a1d-3ab8-40eb-8548-e987555eeb05",
   "metadata": {},
   "source": [
    "14. How is memory managed in python?"
   ]
  },
  {
   "cell_type": "markdown",
   "id": "e1276f79-44be-4a10-bb1b-99ca26bf1288",
   "metadata": {},
   "source": [
    "Memory management in Python involves a private heap containing all Python objects and data structures"
   ]
  },
  {
   "cell_type": "markdown",
   "id": "4eec441e-e5f3-4564-8bef-5f0828be69c8",
   "metadata": {},
   "source": [
    "15. How to install python on windows and set path variables?"
   ]
  },
  {
   "cell_type": "markdown",
   "id": "8c7f57ae-bb01-4c96-9c5f-180287a58e3b",
   "metadata": {},
   "source": [
    "1Right-clicking This PC and going to Properties.\n",
    "\n",
    "2Clicking on the Advanced system settings in the menu on the left.\n",
    "\n",
    "3Clicking on the Environment Variables button o​n the bottom right.\n",
    "\n",
    "4In the System variables section, selecting the Path variable and clicking on Edit. The next screen will show all the directories that are currently a part of the PATH variable.\n",
    "\n",
    "5Clicking on New and entering Python’s install directory."
   ]
  },
  {
   "cell_type": "code",
   "execution_count": null,
   "id": "1d30fd45-d7a5-4296-b21b-cc5c62624d8f",
   "metadata": {},
   "outputs": [],
   "source": []
  }
 ],
 "metadata": {
  "kernelspec": {
   "display_name": "Python 3 (ipykernel)",
   "language": "python",
   "name": "python3"
  },
  "language_info": {
   "codemirror_mode": {
    "name": "ipython",
    "version": 3
   },
   "file_extension": ".py",
   "mimetype": "text/x-python",
   "name": "python",
   "nbconvert_exporter": "python",
   "pygments_lexer": "ipython3",
   "version": "3.10.8"
  }
 },
 "nbformat": 4,
 "nbformat_minor": 5
}
